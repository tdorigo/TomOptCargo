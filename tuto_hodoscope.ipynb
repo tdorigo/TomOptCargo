{
 "cells": [
  {
   "cell_type": "markdown",
   "id": "ea09c91b",
   "metadata": {},
   "source": [
    "# Tutuorial: Hodoscope\n",
    "\n",
    "\n",
    "\n",
    "The `Hodoscope` class provides implementations of class simulating hodoscope-style detectors with learnable xyz positions.\n",
    "\n",
    "I take as input the following **arguments**:\n",
    "\n",
    " - `init_xyz`: initial xyz position of the hodoscope in metres in the volume frame. The z position corresponds to the top of the hodoscope.\n",
    "\n",
    " - `init_xyz_span`: initial xyz-span (total width) of the hodoscope in metres.\n",
    "\n",
    " - `xyz_gap`: the gap between the edges of the hodoscope and the panels.\n",
    "\n",
    " - `n_panels`: the number of detection panels within the hodoscope.\n",
    "\n",
    " - `res`: resolution of the panels in m^-1, i.e. a higher value improves the precision on the hit recording.\n",
    "\n",
    " - `eff`: efficiency of the hit recording of the panel, indicated as a probability [0,1].\n",
    "\n",
    " - `realistic_validation`: if True, will use the physical interpretation of the panel during evaluation.\n",
    " \n",
    " - `device`: device on which to place tensors.\n",
    "\n",
    "The panel's spans, efficiencies and resolutions are fixed parameters."
   ]
  },
  {
   "cell_type": "code",
   "execution_count": 22,
   "id": "7ed1c195",
   "metadata": {},
   "outputs": [
    {
     "name": "stdout",
     "output_type": "stream",
     "text": [
      "hodoscope placed at xy = 0.5,0.5 [m] and z = 1.5 [m]\n"
     ]
    }
   ],
   "source": [
    "from volume.hodoscope import Hodoscope\n",
    "\n",
    "hodoscope = Hodoscope(init_xyz= (0.5, 0.5, 1.5), \n",
    "                      init_xyz_span = (1., 1., .4), \n",
    "                      xyz_gap = (.1, .1, .1), \n",
    "                      n_panels = 3, \n",
    "                      eff = 0.9,\n",
    "                      res = 1e3,\n",
    "                      realistic_validation = False)\n",
    "\n",
    "print(\"hodoscope placed at xy = {},{} [m] and z = {} [m]\".format(hodoscope.xy[0].item(),\n",
    "                                                                 hodoscope.xy[1].item(), \n",
    "                                                                 hodoscope.z.item() ))"
   ]
  },
  {
   "cell_type": "markdown",
   "id": "c0dd4577",
   "metadata": {},
   "source": [
    "Once instanciated, `n_panels` detector panels are generated at $xy = $`init_xyz[:-1]`. Their $z$ position depends on the value of `xyz_gap` and the number of panels. "
   ]
  },
  {
   "cell_type": "code",
   "execution_count": 23,
   "id": "ebc22342",
   "metadata": {},
   "outputs": [
    {
     "name": "stdout",
     "output_type": "stream",
     "text": [
      "Panel at z = 1.40 [m] and x,y = 0.50,0.50 [m]\n",
      "Panel at z = 1.30 [m] and x,y = 0.50,0.50 [m]\n",
      "Panel at z = 1.20 [m] and x,y = 0.50,0.50 [m]\n"
     ]
    }
   ],
   "source": [
    "panels = hodoscope.panels\n",
    "\n",
    "for p in panels:\n",
    "    print(\"Panel at z = {:.2f} [m] and x,y = {:.2f},{:.2f} [m]\".format(p.z.item(), p.xy.data[0], p.xy.data[1]))"
   ]
  },
  {
   "cell_type": "markdown",
   "id": "c4e21ea6",
   "metadata": {},
   "source": [
    "Hodoscope are meant to be placed within an instance of the `HodoscopeDetectorLayer` class. I take as input the following **arguments**:\n",
    "\n",
    " - `pos`: string-encoding of the detector-layer group.\n",
    "\n",
    " - `lw`: the length and width of the layer in the x and y axes in metres, starting from (x,y)=(0,0).\n",
    "\n",
    " - `z`: the z position of the top of layer in metres. The bottom of the layer will be located at z-size.\n",
    "\n",
    " - `size`: the voxel size in metres. Must be such that lw is divisible by the specified size.\n",
    "\n",
    " - `hodoscopes`: The set of initialised hodoscopes to contain in the detector layer.\n",
    "\n",
    "Let's create the `HodoscopeDetectorLayer` placed above the passive volume, which will contained the hodoscope instanciated above:"
   ]
  },
  {
   "cell_type": "code",
   "execution_count": 24,
   "id": "721608bc",
   "metadata": {},
   "outputs": [
    {
     "data": {
      "text/plain": [
       "'above'"
      ]
     },
     "execution_count": 24,
     "metadata": {},
     "output_type": "execute_result"
    }
   ],
   "source": [
    "import torch\n",
    "from torch import Tensor\n",
    "\n",
    "from volume.hodoscopelayer import HodoscopeDetectorLayer\n",
    "\n",
    "hod_detector_above = HodoscopeDetectorLayer(pos = 'above', \n",
    "                                            lw = Tensor([2, 2]), \n",
    "                                            z = 2., \n",
    "                                            size = .9, \n",
    "                                            hodoscopes = [hodoscope])\n",
    "\n",
    "hod_detector_above.pos"
   ]
  },
  {
   "cell_type": "markdown",
   "id": "0d33a994",
   "metadata": {},
   "source": [
    "Let's create the `HodoscopeDetectorLayer` placed above the passive volume, which will contained 2 hodoscopes:"
   ]
  },
  {
   "cell_type": "code",
   "execution_count": 25,
   "id": "50e4580c",
   "metadata": {},
   "outputs": [
    {
     "data": {
      "text/plain": [
       "'below'"
      ]
     },
     "execution_count": 25,
     "metadata": {},
     "output_type": "execute_result"
    }
   ],
   "source": [
    "hodoscopes_below = [Hodoscope(init_xyz= (0.5, 0.5, z), \n",
    "                              init_xyz_span = (1., 1., .4), \n",
    "                              xyz_gap = (.1, .1, .1), \n",
    "                              n_panels = 3, \n",
    "                              eff = 0.9,\n",
    "                              res = 1e3,\n",
    "                              realistic_validation = False) for z in [0.1, -.3]]\n",
    "\n",
    "hod_detector_below = HodoscopeDetectorLayer(pos = 'below', \n",
    "                                            lw = Tensor([2, 2]), \n",
    "                                            z = .2, \n",
    "                                            size = 1., \n",
    "                                            hodoscopes = hodoscopes_below)\n",
    "\n",
    "hod_detector_below.pos"
   ]
  },
  {
   "cell_type": "markdown",
   "id": "308fc7f5",
   "metadata": {},
   "source": [
    "The two freshly created `HodoscopeDetectorLayer` can now be used to instanciate the volume:"
   ]
  },
  {
   "cell_type": "code",
   "execution_count": 26,
   "id": "f680c97a",
   "metadata": {},
   "outputs": [],
   "source": [
    "from torch import nn\n",
    "\n",
    "from tomopt.volume.layer import PassiveLayer\n",
    "from tomopt.core import DEVICE\n",
    "\n",
    "def get_layers(hod_layers):\n",
    "    layers = []\n",
    "    lwh = Tensor([1,1,1])\n",
    "    size = 0.1\n",
    "    layers.append(hod_layers[0])\n",
    "    for z in [0.7,0.6,0.5,0.4,0.3]:\n",
    "        layers.append(PassiveLayer(lw=lwh[:2], z=z, size=size, device=DEVICE))\n",
    "    layers.append(hod_layers[1])\n",
    "\n",
    "    return nn.ModuleList(layers)"
   ]
  },
  {
   "cell_type": "code",
   "execution_count": 27,
   "id": "236c485d",
   "metadata": {},
   "outputs": [],
   "source": [
    "from tomopt.volume.volume import Volume\n",
    "\n",
    "volume = Volume(get_layers([hod_detector_above, hod_detector_below]))"
   ]
  },
  {
   "cell_type": "markdown",
   "id": "98e9d07d",
   "metadata": {},
   "source": [
    "We can now use the various draw methods to plot the volume. Here is an example with the `draw_volume_2D` method:"
   ]
  },
  {
   "cell_type": "code",
   "execution_count": 28,
   "id": "285d6b6f",
   "metadata": {},
   "outputs": [
    {
     "data": {
      "image/png": "[encoded data removed]",
      "text/plain": [
       "<Figure size 1000x1000 with 3 Axes>"
      ]
     },
     "metadata": {},
     "output_type": "display_data"
    }
   ],
   "source": [
    "from plotting.plotting import draw_volume_2D\n",
    "draw_volume_2D(volume)"
   ]
  }
 ],
 "metadata": {
  "kernelspec": {
   "display_name": "tomopt",
   "language": "python",
   "name": "python3"
  },
  "language_info": {
   "codemirror_mode": {
    "name": "ipython",
    "version": 3
   },
   "file_extension": ".py",
   "mimetype": "text/x-python",
   "name": "python",
   "nbconvert_exporter": "python",
   "pygments_lexer": "ipython3",
   "version": "3.8.16"
  }
 },
 "nbformat": 4,
 "nbformat_minor": 5
}
